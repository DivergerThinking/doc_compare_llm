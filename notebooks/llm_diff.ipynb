{
 "cells": [
  {
   "cell_type": "code",
   "execution_count": 1,
   "metadata": {},
   "outputs": [],
   "source": [
    "import os\n",
    "import base64"
   ]
  },
  {
   "cell_type": "code",
   "execution_count": 2,
   "metadata": {},
   "outputs": [],
   "source": [
    "with open(\"../data/secrets_itor.json\") as secrets:\n",
    "    secrets_dict = eval(secrets.read())\n",
    "    open_api_key = base64.b64decode(secrets_dict[\"openai_api_key\"]).decode('ascii')\n",
    "    os.environ[\"OPENAI_API_KEY\"] = open_api_key\n",
    "    if \"organization_id\" in secrets_dict.keys():\n",
    "        openai_organization = base64.b64decode(secrets_dict[\"organization_id\"]).decode('ascii')\n",
    "        os.environ[\"OPENAI_ORGANIZATION\"] = openai_organization"
   ]
  },
  {
   "cell_type": "code",
   "execution_count": 3,
   "metadata": {},
   "outputs": [],
   "source": [
    "import openai"
   ]
  },
  {
   "cell_type": "code",
   "execution_count": 4,
   "metadata": {},
   "outputs": [],
   "source": [
    "with open('../data/directiva_residuos/mods_2018.json') as file:\n",
    "    mods_2018 = eval(file.read())\n",
    "with open('../data/directiva_residuos/articles_2008.json') as file:\n",
    "    articles_2008 = eval(file.read())"
   ]
  },
  {
   "cell_type": "markdown",
   "metadata": {},
   "source": [
    "# Detect article to modif"
   ]
  },
  {
   "cell_type": "code",
   "execution_count": 5,
   "metadata": {},
   "outputs": [],
   "source": [
    "detect_article_modif_system_prompt = \"\"\"\n",
    "Eres un asistente que identifica en un texto legal los artículos que modifica de otra legislación anterior.\n",
    "La respuesta debe ser únicamente los nombre de los artículos identificados en minúscula, sin tildes y con barra baja en lugar de espacio.\n",
    "Los artículos identificados deben estar estar formateados como una lista de python [\"articulo_1\", \"articulo_2\"].\n",
    "\n",
    "Ejemplo 1\n",
    "Texto de modificaciones(encapsulado en triple tilde inversa):\n",
    "```\n",
    "El artículo 1 se sustituye por el texto siguiente:\n",
    "Exposición de motivos y causas.\n",
    "Lorem ipsum dolor sit amet, consectetur adipiscing elit.\n",
    "```\n",
    "Artículos identificados:\n",
    "[\"articulo_1\"]\n",
    "\n",
    "Ejemplo 2\n",
    "Texto de modificaciones(encapsulado en triple tilde inversa):\n",
    "```\n",
    "En el artículo 2, apartado 2, se añade la letra siguiente:\n",
    "Etiam mattis mauris nec felis tempus dapibus.\n",
    "\n",
    "3) El artículo 3 se modifica como sigue:\n",
    "Proin pretium, est sed pellentesque rutrum, ipsum felis posuere dui, quis pulvinar nibh neque quis libero.\n",
    "```\n",
    "Artículos identificados:\n",
    "[\"articulo_1\", \"articulo_3\"]\n",
    "\"\"\""
   ]
  },
  {
   "cell_type": "code",
   "execution_count": 6,
   "metadata": {},
   "outputs": [],
   "source": [
    "modif_doc_prompt_prompt = \"\"\"\n",
    "\n",
    "Texto de modificaciones (encapsulado en triple tilde inversa):\n",
    "```\n",
    "{mod_doc}\n",
    "```\n",
    "\n",
    "Artículos identificados:\n",
    "\"\"\""
   ]
  },
  {
   "cell_type": "code",
   "execution_count": 11,
   "metadata": {},
   "outputs": [],
   "source": [
    "params = {\n",
    "#   'model': 'gpt-4',\n",
    "  'model': 'gpt-3.5-turbo-16k',\n",
    "  'request_timeout': None,\n",
    "  'max_tokens': 2000,\n",
    "  'stream': False,\n",
    "  'n': 1,\n",
    "  'temperature': 0,\n",
    "  'top_p': 1,\n",
    "  'api_base': '',\n",
    "  'organization': '',\n",
    "}"
   ]
  },
  {
   "cell_type": "code",
   "execution_count": 9,
   "metadata": {},
   "outputs": [],
   "source": [
    "message_dicts = [{'role': 'system',\n",
    "   'content': detect_article_modif_system_prompt},\n",
    "  {'role': 'user',\n",
    "   'content': modif_doc_prompt_prompt.format(mod_doc=mods_2018[\"1\"])},\n",
    "]"
   ]
  },
  {
   "cell_type": "code",
   "execution_count": 7,
   "metadata": {},
   "outputs": [
    {
     "name": "stdout",
     "output_type": "stream",
     "text": [
      "2)\n",
      "En el artículo 2, apartado 2, se añade la letra siguiente:\n",
      "«e)\n",
      "sustancias que se destinen a ser utilizadas como materias primas para piensos tal como se definen en el artículo 3, apartado 2, letra g), del\n",
      "Reglamento (CE) n.o 767/2009 del Parlamento Europeo y del Consejo (*1) y que no sean subproductos animales ni los contengan;\n",
      "(*1) Reglamento (CE) n.o 767/2009 del Parlamento Europeo y del\n",
      "Consejo, de 13 de julio de 2009, sobre la comercialización y la utilización de los piensos, por el que se modifica el Reglamento (CE) n.o 1831/2003\n",
      "y se derogan las Directivas 79/373/CEE del Consejo, 80/511/CEE de la\n",
      "Comisión, 82/471/CEE del Consejo, 83/228/CEE del Consejo, 93/74/CEE\n",
      "del Consejo, 93/113/CE del Consejo y 96/25/CE del Consejo y la Decisión\n",
      "2004/217/CE de la Comisión (DO L 229 de 1.9.2009, p. 1).».\"\n"
     ]
    }
   ],
   "source": [
    "print(mods_2018[\"1\"])"
   ]
  },
  {
   "cell_type": "code",
   "execution_count": 12,
   "metadata": {},
   "outputs": [],
   "source": [
    "response = openai.ChatCompletion.create(\n",
    "    messages=message_dicts,\n",
    "    **params\n",
    ")"
   ]
  },
  {
   "cell_type": "code",
   "execution_count": 100,
   "metadata": {},
   "outputs": [
    {
     "name": "stdout",
     "output_type": "stream",
     "text": [
      "[\"articulo_2\", \"articulo_3\"]\n"
     ]
    }
   ],
   "source": [
    "print(response.choices[0].message.content)"
   ]
  },
  {
   "cell_type": "code",
   "execution_count": 36,
   "metadata": {},
   "outputs": [
    {
     "data": {
      "text/plain": [
       "True"
      ]
     },
     "execution_count": 36,
     "metadata": {},
     "output_type": "execute_result"
    }
   ],
   "source": [
    "isinstance(eval(response.choices[0].message.content), list)"
   ]
  },
  {
   "cell_type": "code",
   "execution_count": 13,
   "metadata": {},
   "outputs": [],
   "source": [
    "def identify_article(modification_text: str, api_params: dict):\n",
    "    message_dicts = [\n",
    "        {\"role\": \"system\", \"content\": detect_article_modif_system_prompt},\n",
    "        {\"role\": \"user\", \"content\": modif_doc_prompt_prompt.format(mod_doc=modification_text)},\n",
    "    ]\n",
    "    response_text = openai.ChatCompletion.create(messages=message_dicts, **api_params).choices[0].message.content\n",
    "    response = eval(response_text)\n",
    "    assert isinstance(response, list), \"Wrong output format:\\n{response_text}\"\n",
    "    return response"
   ]
  },
  {
   "cell_type": "code",
   "execution_count": 106,
   "metadata": {},
   "outputs": [
    {
     "data": {
      "text/plain": [
       "['articulo_2', 'articulo_3']"
      ]
     },
     "execution_count": 106,
     "metadata": {},
     "output_type": "execute_result"
    }
   ],
   "source": [
    "identify_article(mods_2018[\"1\"], api_params=params)"
   ]
  },
  {
   "cell_type": "markdown",
   "metadata": {},
   "source": [
    "# Diff Generator"
   ]
  },
  {
   "cell_type": "code",
   "execution_count": 14,
   "metadata": {},
   "outputs": [],
   "source": [
    "diff_system_prompt = \"\"\"\n",
    "Eres un experto asistente legal que ayuda a interpretar y entender cambios en legislaciones. Tienes experiencia redactando, corrigiendo y mejorando textos legales como leyes o directivas.\n",
    "Tu objetivo es consolidar los cambios en los documentos tachando (usa el tag html <del>) la parte del texto que queda modificada o derogada y añadiendo el nuevo texto  (usa el tag html <ins>). Pueden haber solo eliminaciones o solo adiciones de texto.\n",
    "El resultado final será un texto único dónde quede claro cuales son las partes del texto que quedan obsoletas y aquellas que entran en vigor.\n",
    "Deber realizar el trabajo artículo a artículo para evitar errores.\n",
    "Si las instrucciones de modificación no afectan a los artículos en el documento original, o se trata de otro elemento que no sea un artículo, simplemente responde con un string vacío.\n",
    "\n",
    "Ejemplo:\n",
    "\n",
    "Documento original (encapsulado en triple tilde inversa):\n",
    "```\n",
    "Constitución española\n",
    "Artículo 1.\n",
    "1. España se constituye en un Estado social y democrático de Derecho, que propugna como valores superiores de su ordenamiento jurídico la libertad, la justicia, la igualdad y el pluralismo político. \n",
    "2. La soberanía nacional reside en el pueblo español, del que emanan los poderes del Estado. \n",
    "3. La forma política del Estado español es la Monarquía parlamentaria. \n",
    "\n",
    "Artículo 2.\n",
    "La Constitución se fundamenta en la indisoluble unidad de la Nación española, patria común e indivisible de todos los españoles, y reconoce y garantiza el derecho a la autonomía de las nacionalidades y regiones que la integran y la solidaridad entre todas ellas.\n",
    "\n",
    "Artículo 3.\n",
    "1. El castellano es la lengua española oficial del Estado. Todos los españoles tienen el deber de conocerla y el derecho a usarla. \n",
    "2. Las demás lenguas españolas serán también oficiales en las respectivas Comunidades Autónomas de acuerdo con sus Estatutos. \n",
    "3. La riqueza de las distintas modalidades lingüísticas de España es un patrimonio cultural que será objeto de especial respeto y protección.\n",
    "```\n",
    "\n",
    "Instrucciones de modificaciones (encapsulado en triple tilde inversa):\n",
    "```\n",
    "Constitución Española\n",
    "Del artículo 1 se modifican los siguientes apartados: \n",
    "Apartado 1. Se sustituye el texto \"la libertad, la justicia, la igualdad y el pluralismo político.\" por \"la unidad, el respeto y el amor.\"\n",
    "Apartado 3. Se sustituye por completo por el siguiente texto \"La forma política de España es la República parlamentaria.\"\n",
    "\n",
    "En el artículo 2 se añade el siguiente texto \"Sin menoscabo de su derecho a decidir sobre su futuro.\".\n",
    "\n",
    "En el articulo 3 se elimina el apartado 3.\n",
    "```\n",
    "\n",
    "Documento consolidado (encapsulado en triple tilde inversa):\n",
    "```\n",
    "Artículo 1.\n",
    "1. España se constituye en un Estado social y democrático de Derecho, que propugna como valores superiores de su ordenamiento jurídico ≤del>la libertad, la justicia, la igualdad y el pluralismo político. </del> la unidad, el respeto y el amor.\n",
    "2. La soberanía nacional reside en el pueblo español, del que emanan los poderes del Estado. \n",
    "3. <del>La forma política del Estado español es la  Monarquía parlamentaria</del> <ins>La forma política de España es la República parlamentaria.</ins>\n",
    "\n",
    "Artículo 2.\n",
    "La Constitución se fundamenta en la indisoluble unidad de la Nación española, patria común e indivisible de todos los españoles, y reconoce y garantiza el derecho a la autonomía de las nacionalidades y regiones que la integran y la solidaridad entre todas ellas. <ins>Sin menoscabo de su derecho a decidir sobre su futuro.</ins>\n",
    "\n",
    "Artículo 3.\n",
    "1. El castellano es la lengua española oficial del Estado. Todos los españoles tienen el deber de conocerla y el derecho a usarla. \n",
    "2. Las demás lenguas españolas serán también oficiales en las respectivas Comunidades Autónomas de acuerdo con sus Estatutos. \n",
    "<del>3. La riqueza de las distintas modalidades lingüísticas de España es un patrimonio cultural que será objeto de especial respeto y protección.</del>\n",
    "```\n",
    "\"\"\""
   ]
  },
  {
   "cell_type": "code",
   "execution_count": 15,
   "metadata": {},
   "outputs": [],
   "source": [
    "diff_gen_prompt = \"\"\"\n",
    "Documento original (encapsulado en triple tilde inversa):\n",
    "```\n",
    "{orig_doc}\n",
    "```\n",
    "\n",
    "Instrucciones de modificaciones (encapsulado en triple tilde inversa):\n",
    "```\n",
    "{mod_doc}\n",
    "```\n",
    "\n",
    "Documento consolidado:\n",
    "\"\"\""
   ]
  },
  {
   "cell_type": "code",
   "execution_count": 112,
   "metadata": {},
   "outputs": [],
   "source": [
    "message_dicts = [\n",
    "    {\"role\": \"system\", \"content\": diff_system_prompt},\n",
    "    {\n",
    "        \"role\": \"user\",\n",
    "        \"content\": diff_gen_prompt.format(orig_doc=articles_2008[\"articulo_1\"], mod_doc=mods_2018[\"0\"]),\n",
    "    },\n",
    "]"
   ]
  },
  {
   "cell_type": "code",
   "execution_count": 121,
   "metadata": {},
   "outputs": [],
   "source": [
    "params = {\n",
    "  'model': 'gpt-4',\n",
    "#   'model': 'gpt-3.5-turbo-16k',\n",
    "  'request_timeout': None,\n",
    "  'max_tokens': 2000,\n",
    "  'stream': False,\n",
    "  'n': 1,\n",
    "  'temperature': 0,\n",
    "  'top_p': 1,\n",
    "  'api_base': '',\n",
    "  'organization': '',}"
   ]
  },
  {
   "cell_type": "code",
   "execution_count": 114,
   "metadata": {},
   "outputs": [],
   "source": [
    "response = openai.ChatCompletion.create(\n",
    "    messages=message_dicts,\n",
    "    **params\n",
    ")"
   ]
  },
  {
   "cell_type": "code",
   "execution_count": 115,
   "metadata": {},
   "outputs": [
    {
     "name": "stdout",
     "output_type": "stream",
     "text": [
      "Artículo 1\n",
      "Objeto y ámbito de aplicación\n",
      "La presente Directiva establece medidas destinadas a proteger el medio ambiente y la salud humana mediante la prevención o la reducción de la generación de residuos y de los impactos negativos de la generación y gestión de los residuos, mediante la reducción del impacto global del uso de los recursos y mediante la mejora de la eficiencia de dicho uso, elementos cruciales para efectuar la transición a una economía circular y garantizar la competitividad de la Unión a largo plazo.\n"
     ]
    }
   ],
   "source": [
    "print(response.choices[0].message.content)"
   ]
  },
  {
   "cell_type": "code",
   "execution_count": 16,
   "metadata": {},
   "outputs": [],
   "source": [
    "def generate_diff_text(origin_text: str, mod_text: str, api_params: dict):\n",
    "    message_dicts = [\n",
    "        {\"role\": \"system\", \"content\": diff_system_prompt},\n",
    "        {\"role\": \"user\", \"content\": diff_gen_prompt.format(orig_doc=origin_text, mod_doc=mod_text)},\n",
    "    ]\n",
    "    response_text = openai.ChatCompletion.create(messages=message_dicts, **api_params).choices[0].message.content\n",
    "    return response_text"
   ]
  },
  {
   "cell_type": "code",
   "execution_count": 122,
   "metadata": {},
   "outputs": [],
   "source": [
    "response = generate_diff_text(origin_text=articles_2008[\"articulo_3\"], mod_text=mods_2018[\"1\"], api_params=params)"
   ]
  },
  {
   "cell_type": "code",
   "execution_count": 123,
   "metadata": {},
   "outputs": [
    {
     "name": "stdout",
     "output_type": "stream",
     "text": [
      "\"\"\n"
     ]
    }
   ],
   "source": [
    "print(response)"
   ]
  },
  {
   "cell_type": "markdown",
   "metadata": {},
   "source": [
    "# Full pipeline"
   ]
  },
  {
   "cell_type": "code",
   "execution_count": 17,
   "metadata": {},
   "outputs": [],
   "source": [
    "def auto_generate_diff_text(\n",
    "    origin_docs: dict, mod_docs: dict, diff_api_params: dict, id_article_api_params: dict, verbose: bool = False\n",
    "):\n",
    "    diffed_docs = {}\n",
    "    for mod_key, mod_doc in mod_docs.items():\n",
    "        articles = identify_article(mod_doc, api_params=id_article_api_params)\n",
    "        for article in articles:\n",
    "            if verbose:\n",
    "                print(mod_key, article)\n",
    "            res = generate_diff_text(origin_text=origin_docs[article], mod_text=mod_doc, api_params=diff_api_params)\n",
    "            if not res and verbose:\n",
    "                print(f\"Article {article} not affected by modification {mod_key}\")\n",
    "            diffed_docs.update({article: res})\n",
    "    return diffed_docs"
   ]
  },
  {
   "cell_type": "code",
   "execution_count": 18,
   "metadata": {},
   "outputs": [],
   "source": [
    "diff_api_params = {\n",
    "  'model': 'gpt-4',\n",
    "#   'model': 'gpt-3.5-turbo-16k',\n",
    "  'request_timeout': None,\n",
    "  'max_tokens': 2000,\n",
    "  'stream': False,\n",
    "  'n': 1,\n",
    "  'temperature': 0,\n",
    "  'top_p': 1,\n",
    "  'api_base': '',\n",
    "  'organization': '',}"
   ]
  },
  {
   "cell_type": "code",
   "execution_count": 19,
   "metadata": {},
   "outputs": [],
   "source": [
    "id_article_api_params = {\n",
    "#   'model': 'gpt-4',\n",
    "  'model': 'gpt-3.5-turbo-16k',\n",
    "  'request_timeout': None,\n",
    "  'max_tokens': 2000,\n",
    "  'stream': False,\n",
    "  'n': 1,\n",
    "  'temperature': 0,\n",
    "  'top_p': 1,\n",
    "  'api_base': '',\n",
    "  'organization': '',}"
   ]
  },
  {
   "cell_type": "code",
   "execution_count": 20,
   "metadata": {},
   "outputs": [],
   "source": [
    "mod_2018_subset = {k:v for k,v in mods_2018.items() if k in (\"0\", \"1\")}"
   ]
  },
  {
   "cell_type": "code",
   "execution_count": 21,
   "metadata": {},
   "outputs": [
    {
     "name": "stdout",
     "output_type": "stream",
     "text": [
      "0 articulo_1\n",
      "1 articulo_2\n",
      "1 articulo_3\n"
     ]
    }
   ],
   "source": [
    "response_test = auto_generate_diff_text(\n",
    "    origin_docs=articles_2008,\n",
    "    mod_docs=mod_2018_subset,\n",
    "    diff_api_params=diff_api_params,\n",
    "    id_article_api_params=id_article_api_params,\n",
    "    verbose=True,\n",
    ")"
   ]
  },
  {
   "cell_type": "code",
   "execution_count": 22,
   "metadata": {},
   "outputs": [
    {
     "data": {
      "text/plain": [
       "{'articulo_1': '```\\nArtículo 1\\nObjeto y ámbito de aplicación\\n<del>La presente Directiva establece medidas destinadas a proteger el medio ambiente y la salud humana mediante la prevención o la reducción de los impactos adversos de la generación y gestión de los residuos, la reducción de los impactos globales del uso de los recursos y la mejora de la eficacia de dicho uso.</del> <ins>La presente Directiva establece medidas destinadas a proteger el medio ambiente y la salud humana mediante la prevención o la reducción de la generación de residuos y de los impactos negativos de la generación y gestión de los residuos, mediante la reducción del impacto global del uso de los recursos y mediante la mejora de la eficiencia de dicho uso, elementos cruciales para efectuar la transición a una economía circular y garantizar la competitividad de la Unión a largo plazo.</ins>\\n```',\n",
       " 'articulo_2': '```\\nArtículo 2\\nExclusiones del ámbito de aplicación\\n1.\\nQueda excluido lo siguiente del ámbito de aplicación de la presente\\nDirectiva:\\na) los efluentes gaseosos emitidos en la atmósfera;\\nb) la tierra (in situ) incluido el suelo no excavado contaminado y los edificios en contacto permanente con la tierra;\\nc) suelo no contaminado y demás material en estado natural excavado durante las actividades de construcción cuando se tiene la certeza de que el material se utilizará a efectos de construcción en su estado natural en el sitio del que se extrajo;\\nd) los residuos radiactivos;\\ne) explosivos desclasificados;\\nf) materias fecales, si no están contempladas en el apartado 2.b), paja y otro material natural, agrícola o silvícola, no peligroso, utilizado en la agricultura, en la silvicultura o en la producción de energía a base de esta biomasa, mediante procedimientos o métodos que no dañen el medio ambiente o pongan en peligro la salud humana.\\n2.\\nQueda excluido lo siguiente del ámbito de aplicación de la presente\\nDirectiva en la medida en que ya está cubierto por otra normativa comunitaria:\\na) aguas residuales;\\nb) subproductos animales, incluidos los productos transformados cubiertos por el Reglamento (CE) no 1774/2002, excepto los destinados a la incineración, los vertederos o utilizados en una planta de gas o de compostaje;\\nc) cadáveres de animales que hayan muerto de forma diferente al sacrificio, incluidos los que han sido muertos con el fin de erradicar epizootias, y que son eliminados con arreglo al Reglamento (CE) no\\n1774/2002;\\nd) residuos resultantes de la prospección, de la extracción, del tratamiento o del almacenamiento de recursos minerales, así como de la explotación de canteras cubiertos por la\\nDirectiva\\n2006/21/CE\\ndel\\nParlamento Europeo y del Consejo, de 15 de marzo de 2006, sobre la gestión de los residuos de industrias extractivas (23);\\n<ins>e) sustancias que se destinen a ser utilizadas como materias primas para piensos tal como se definen en el artículo 3, apartado 2, letra g), del\\nReglamento (CE) n.o 767/2009 del Parlamento Europeo y del Consejo (*1) y que no sean subproductos animales ni los contengan;\\n(*1) Reglamento (CE) n.o 767/2009 del Parlamento Europeo y del\\nConsejo, de 13 de julio de 2009, sobre la comercialización y la utilización de los piensos, por el que se modifica el Reglamento (CE) n.o 1831/2003\\ny se derogan las Directivas 79/373/CEE del Consejo, 80/511/CEE de la\\nComisión, 82/471/CEE del Consejo, 83/228/CEE del Consejo, 93/74/CEE\\ndel Consejo, 93/113/CE del Consejo y 96/25/CE del Consejo y la Decisión\\n2004/217/CE de la Comisión (DO L 229 de 1.9.2009, p. 1).</ins>\\n3.\\nSin perjuicio de las obligaciones impuestas en virtud de otra normativa comunitaria aplicable, se excluirán del ámbito de aplicación de la presente Directiva los sedimentos reubicados en el interior de las aguas superficiales a efectos de gestión de las aguas y de las vías navegables, de prevención de las inundaciones o de mitigación de los efectos de las inundaciones o las sequías o de recuperación de tierras, si se demuestra que dichos sedimentos no son peligrosos.\\n4.\\nLas disposiciones específicas particulares o complementarias de las de la presente Directiva, destinadas a regular la gestión de determinadas categorías de residuos, podrán establecerse mediante directivas específicas.\\n```',\n",
       " 'articulo_3': '\"\"'}"
      ]
     },
     "execution_count": 22,
     "metadata": {},
     "output_type": "execute_result"
    }
   ],
   "source": [
    "response_test"
   ]
  },
  {
   "cell_type": "code",
   "execution_count": 26,
   "metadata": {},
   "outputs": [
    {
     "name": "stdout",
     "output_type": "stream",
     "text": [
      "2)\n",
      "En el artículo 2, apartado 2, se añade la letra siguiente:\n",
      "«e)\n",
      "sustancias que se destinen a ser utilizadas como materias primas para piensos tal como se definen en el artículo 3, apartado 2, letra g), del\n",
      "Reglamento (CE) n.o 767/2009 del Parlamento Europeo y del Consejo (*1) y que no sean subproductos animales ni los contengan;\n",
      "(*1) Reglamento (CE) n.o 767/2009 del Parlamento Europeo y del\n",
      "Consejo, de 13 de julio de 2009, sobre la comercialización y la utilización de los piensos, por el que se modifica el Reglamento (CE) n.o 1831/2003\n",
      "y se derogan las Directivas 79/373/CEE del Consejo, 80/511/CEE de la\n",
      "Comisión, 82/471/CEE del Consejo, 83/228/CEE del Consejo, 93/74/CEE\n",
      "del Consejo, 93/113/CE del Consejo y 96/25/CE del Consejo y la Decisión\n",
      "2004/217/CE de la Comisión (DO L 229 de 1.9.2009, p. 1).».\"\n"
     ]
    }
   ],
   "source": [
    "print(mods_2018[\"1\"])"
   ]
  },
  {
   "cell_type": "code",
   "execution_count": 24,
   "metadata": {},
   "outputs": [
    {
     "name": "stdout",
     "output_type": "stream",
     "text": [
      "```\n",
      "Artículo 2\n",
      "Exclusiones del ámbito de aplicación\n",
      "1.\n",
      "Queda excluido lo siguiente del ámbito de aplicación de la presente\n",
      "Directiva:\n",
      "a) los efluentes gaseosos emitidos en la atmósfera;\n",
      "b) la tierra (in situ) incluido el suelo no excavado contaminado y los edificios en contacto permanente con la tierra;\n",
      "c) suelo no contaminado y demás material en estado natural excavado durante las actividades de construcción cuando se tiene la certeza de que el material se utilizará a efectos de construcción en su estado natural en el sitio del que se extrajo;\n",
      "d) los residuos radiactivos;\n",
      "e) explosivos desclasificados;\n",
      "f) materias fecales, si no están contempladas en el apartado 2.b), paja y otro material natural, agrícola o silvícola, no peligroso, utilizado en la agricultura, en la silvicultura o en la producción de energía a base de esta biomasa, mediante procedimientos o métodos que no dañen el medio ambiente o pongan en peligro la salud humana.\n",
      "2.\n",
      "Queda excluido lo siguiente del ámbito de aplicación de la presente\n",
      "Directiva en la medida en que ya está cubierto por otra normativa comunitaria:\n",
      "a) aguas residuales;\n",
      "b) subproductos animales, incluidos los productos transformados cubiertos por el Reglamento (CE) no 1774/2002, excepto los destinados a la incineración, los vertederos o utilizados en una planta de gas o de compostaje;\n",
      "c) cadáveres de animales que hayan muerto de forma diferente al sacrificio, incluidos los que han sido muertos con el fin de erradicar epizootias, y que son eliminados con arreglo al Reglamento (CE) no\n",
      "1774/2002;\n",
      "d) residuos resultantes de la prospección, de la extracción, del tratamiento o del almacenamiento de recursos minerales, así como de la explotación de canteras cubiertos por la\n",
      "Directiva\n",
      "2006/21/CE\n",
      "del\n",
      "Parlamento Europeo y del Consejo, de 15 de marzo de 2006, sobre la gestión de los residuos de industrias extractivas (23);\n",
      "<ins>e) sustancias que se destinen a ser utilizadas como materias primas para piensos tal como se definen en el artículo 3, apartado 2, letra g), del\n",
      "Reglamento (CE) n.o 767/2009 del Parlamento Europeo y del Consejo (*1) y que no sean subproductos animales ni los contengan;\n",
      "(*1) Reglamento (CE) n.o 767/2009 del Parlamento Europeo y del\n",
      "Consejo, de 13 de julio de 2009, sobre la comercialización y la utilización de los piensos, por el que se modifica el Reglamento (CE) n.o 1831/2003\n",
      "y se derogan las Directivas 79/373/CEE del Consejo, 80/511/CEE de la\n",
      "Comisión, 82/471/CEE del Consejo, 83/228/CEE del Consejo, 93/74/CEE\n",
      "del Consejo, 93/113/CE del Consejo y 96/25/CE del Consejo y la Decisión\n",
      "2004/217/CE de la Comisión (DO L 229 de 1.9.2009, p. 1).</ins>\n",
      "3.\n",
      "Sin perjuicio de las obligaciones impuestas en virtud de otra normativa comunitaria aplicable, se excluirán del ámbito de aplicación de la presente Directiva los sedimentos reubicados en el interior de las aguas superficiales a efectos de gestión de las aguas y de las vías navegables, de prevención de las inundaciones o de mitigación de los efectos de las inundaciones o las sequías o de recuperación de tierras, si se demuestra que dichos sedimentos no son peligrosos.\n",
      "4.\n",
      "Las disposiciones específicas particulares o complementarias de las de la presente Directiva, destinadas a regular la gestión de determinadas categorías de residuos, podrán establecerse mediante directivas específicas.\n",
      "```\n"
     ]
    }
   ],
   "source": [
    "print(response_test[\"articulo_2\"])"
   ]
  },
  {
   "cell_type": "markdown",
   "metadata": {},
   "source": [
    "### Further work needed:\n",
    "- Obtener el número de tokens de cada artículo y modificación mediante tiktoke. Así se podrá hacer una estimación rápida de cuantos caben en una llamada a GPT-4 y aprovechar llamadas. Tener en cuenta que los system prompts repetidos \"desperdician\" ese gasto de tokens, por eso es útil unir requests.\n",
    "- Testear gpt3.5 vs gpt4 para prompts largos\n",
    "- Quitar los pie de página e.g. print(mods_2018[\"1\"])"
   ]
  },
  {
   "cell_type": "markdown",
   "metadata": {},
   "source": []
  }
 ],
 "metadata": {
  "kernelspec": {
   "display_name": "test_pip_github",
   "language": "python",
   "name": "python3"
  },
  "language_info": {
   "codemirror_mode": {
    "name": "ipython",
    "version": 3
   },
   "file_extension": ".py",
   "mimetype": "text/x-python",
   "name": "python",
   "nbconvert_exporter": "python",
   "pygments_lexer": "ipython3",
   "version": "3.11.4"
  },
  "orig_nbformat": 4
 },
 "nbformat": 4,
 "nbformat_minor": 2
}
