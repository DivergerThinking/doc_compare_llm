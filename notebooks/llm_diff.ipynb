{
 "cells": [
  {
   "cell_type": "code",
   "execution_count": 1,
   "metadata": {},
   "outputs": [],
   "source": [
    "import os\n",
    "import base64\n",
    "from langchain.llms import OpenAI\n",
    "from langchain.chat_models import ChatOpenAI"
   ]
  },
  {
   "cell_type": "code",
   "execution_count": 2,
   "metadata": {},
   "outputs": [],
   "source": [
    "with open(\"../data/secrets_itor.json\") as secrets:\n",
    "    secrets_dict = eval(secrets.read())\n",
    "    open_api_key = base64.b64decode(secrets_dict[\"openai_api_key\"]).decode('ascii')\n",
    "    os.environ[\"OPENAI_API_KEY\"] = open_api_key\n",
    "    if \"organization_id\" in secrets_dict.keys():\n",
    "        openai_organization = base64.b64decode(secrets_dict[\"organization_id\"]).decode('ascii')\n",
    "        os.environ[\"OPENAI_ORGANIZATION\"] = openai_organization"
   ]
  },
  {
   "cell_type": "code",
   "execution_count": 4,
   "metadata": {},
   "outputs": [],
   "source": [
    "with open('../data/directiva_residuos/mods_2018.json') as file:\n",
    "    mods_2018 = eval(file.read())\n",
    "with open('../data/directiva_residuos/articles_2008.json') as file:\n",
    "    articles_2008 = eval(file.read())"
   ]
  },
  {
   "cell_type": "code",
   "execution_count": 6,
   "metadata": {},
   "outputs": [],
   "source": [
    "llm = ChatOpenAI(temperature=0, model=\"gpt-4\", max_tokens=1000)\n",
    "llm_16k = ChatOpenAI(temperature=0, model=\"gpt-3.5-turbo-16k\", max_tokens=1000)"
   ]
  },
  {
   "cell_type": "code",
   "execution_count": 11,
   "metadata": {},
   "outputs": [],
   "source": [
    "diff_system_prompt = \"\"\"\n",
    "Eres un experto asistente legal que ayuda a interpretar y entender cambios en legislaciones. Tienes experiencia redactando, corrigiendo y mejorando textos legales como leyes o directivas.\n",
    "\n",
    "Tu objetivo es consolidar los cambios en los documentos tachando (usa el tag html <del>) la parte del texto que queda modificada o derogada y añadiendo el nuevo texto  (usa el tag html <ins>). Pueden haber solo eliminaciones o solo adiciones de texto.\n",
    "\n",
    "El resultado final será un texto único dónde quede claro cuales son las partes del texto que quedan obsoletas y aquellas que entran en vigor.\n",
    "\n",
    "Deber realizar el trabajo artículo a artículo para evitar errores.\n",
    "\n",
    "Ejemplo:\n",
    "\n",
    "Documento original (encapsulado en triple tilde inversa):\n",
    "```\n",
    "Constitución española\n",
    "Artículo 1.\n",
    "1. España se constituye en un Estado social y democrático de Derecho, que propugna como valores superiores de su ordenamiento jurídico la libertad, la justicia, la igualdad y el pluralismo político. \n",
    "2. La soberanía nacional reside en el pueblo español, del que emanan los poderes del Estado. \n",
    "3. La forma política del Estado español es la Monarquía parlamentaria. \n",
    "\n",
    "Artículo 2.\n",
    "La Constitución se fundamenta en la indisoluble unidad de la Nación española, patria común e indivisible de todos los españoles, y reconoce y garantiza el derecho a la autonomía de las nacionalidades y regiones que la integran y la solidaridad entre todas ellas.\n",
    "\n",
    "Artículo 3.\n",
    "1. El castellano es la lengua española oficial del Estado. Todos los españoles tienen el deber de conocerla y el derecho a usarla. \n",
    "2. Las demás lenguas españolas serán también oficiales en las respectivas Comunidades Autónomas de acuerdo con sus Estatutos. \n",
    "3. La riqueza de las distintas modalidades lingüísticas de España es un patrimonio cultural que será objeto de especial respeto y protección.\n",
    "```\n",
    "\n",
    "Instrucciones de modificaciones (encapsulado en triple tilde inversa):\n",
    "```\n",
    "Constitución Española\n",
    "Del artículo 1 se modifican los siguientes apartados: \n",
    "Apartado 1. Se sustituye el texto \"la libertad, la justicia, la igualdad y el pluralismo político.\" por \"la unidad, el respeto y el amor.\"\n",
    "Apartado 3. Se sustituye por completo por el siguiente texto \"La forma política de España es la República parlamentaria.\"\n",
    "\n",
    "En el artículo 2 se añade el siguiente texto \"Sin menoscabo de su derecho a decidir sobre su futuro.\".\n",
    "\n",
    "En el articulo 3 se elimina el apartado 3.\n",
    "```\n",
    "\n",
    "Documento consolidado (encapsulado en triple tilde inversa):\n",
    "```\n",
    "Artículo 1.\n",
    "1. España se constituye en un Estado social y democrático de Derecho, que propugna como valores superiores de su ordenamiento jurídico ≤del>la libertad, la justicia, la igualdad y el pluralismo político. </del> la unidad, el respeto y el amor.\n",
    "2. La soberanía nacional reside en el pueblo español, del que emanan los poderes del Estado. \n",
    "3. <del>La forma política del Estado español es la  Monarquía parlamentaria</del> <ins>La forma política de España es la República parlamentaria.</ins>\n",
    "\n",
    "Artículo 2.\n",
    "La Constitución se fundamenta en la indisoluble unidad de la Nación española, patria común e indivisible de todos los españoles, y reconoce y garantiza el derecho a la autonomía de las nacionalidades y regiones que la integran y la solidaridad entre todas ellas. <ins>Sin menoscabo de su derecho a decidir sobre su futuro.</ins>\n",
    "\n",
    "Artículo 3.\n",
    "1. El castellano es la lengua española oficial del Estado. Todos los españoles tienen el deber de conocerla y el derecho a usarla. \n",
    "2. Las demás lenguas españolas serán también oficiales en las respectivas Comunidades Autónomas de acuerdo con sus Estatutos. \n",
    "<del>3. La riqueza de las distintas modalidades lingüísticas de España es un patrimonio cultural que será objeto de especial respeto y protección.</del>\n",
    "```\n",
    "\"\"\""
   ]
  },
  {
   "cell_type": "code",
   "execution_count": 12,
   "metadata": {},
   "outputs": [],
   "source": [
    "diff_generator_prompt = \"\"\"\n",
    "Documento original (encapsulado en triple tilde inversa):\n",
    "```\n",
    "{orig_doc}\n",
    "```\n",
    "\n",
    "Instrucciones de modificaciones (encapsulado en triple tilde inversa):\n",
    "```\n",
    "{mod_doc}\n",
    "```\n",
    "\n",
    "Documento consolidado:\n",
    "\"\"\""
   ]
  },
  {
   "cell_type": "code",
   "execution_count": 16,
   "metadata": {},
   "outputs": [],
   "source": [
    "message_dicts = [{'role': 'system',\n",
    "   'content': diff_system_prompt},\n",
    "  {'role': 'user',\n",
    "   'content': diff_generator_prompt.format(orig_doc=articles_2008[\"article_1\"], mod_doc=mods_2018[\"0\"])},\n",
    "]"
   ]
  },
  {
   "cell_type": "code",
   "execution_count": 33,
   "metadata": {},
   "outputs": [],
   "source": [
    "params = {\n",
    "#   'model': 'gpt-4',\n",
    "  'model': 'gpt-3.5-turbo-16k',\n",
    "  'request_timeout': None,\n",
    "  'max_tokens': 2000,\n",
    "  'stream': False,\n",
    "  'n': 1,\n",
    "  'temperature': 0,\n",
    "  'top_p': 1,\n",
    "  'api_base': '',\n",
    "  'organization': '',}"
   ]
  },
  {
   "cell_type": "code",
   "execution_count": 34,
   "metadata": {},
   "outputs": [],
   "source": [
    "response = llm.completion_with_retry(\n",
    "    messages=message_dicts,\n",
    "    **params\n",
    ")"
   ]
  },
  {
   "cell_type": "code",
   "execution_count": 31,
   "metadata": {},
   "outputs": [
    {
     "name": "stdout",
     "output_type": "stream",
     "text": [
      "```\n",
      "Artículo 1\n",
      "Objeto y ámbito de aplicación\n",
      "<del>La presente Directiva establece medidas destinadas a proteger el medio ambiente y la salud humana mediante la prevención o la reducción de los impactos adversos de la generación y gestión de los residuos, la reducción de los impactos globales del uso de los recursos y la mejora de la eficacia de dicho uso.</del> <ins>La presente Directiva establece medidas destinadas a proteger el medio ambiente y la salud humana mediante la prevención o la reducción de la generación de residuos y de los impactos negativos de la generación y gestión de los residuos, mediante la reducción del impacto global del uso de los recursos y mediante la mejora de la eficiencia de dicho uso, elementos cruciales para efectuar la transición a una economía circular y garantizar la competitividad de la Unión a largo plazo.</ins>\n",
      "```\n"
     ]
    }
   ],
   "source": [
    "print(response.choices[0].message.content)"
   ]
  },
  {
   "cell_type": "code",
   "execution_count": 35,
   "metadata": {},
   "outputs": [
    {
     "name": "stdout",
     "output_type": "stream",
     "text": [
      "Artículo 1\n",
      "Objeto y ámbito de aplicación\n",
      "<del>La presente Directiva establece medidas destinadas a proteger el medio ambiente y la salud humana mediante la prevención o la reducción de los impactos adversos de la generación y gestión de los residuos, la reducción de los impactos globales del uso de los recursos y la mejora de la eficacia de dicho uso.</del>\n",
      "<ins>La presente Directiva establece medidas destinadas a proteger el medio ambiente y la salud humana mediante la prevención o la reducción de la generación de residuos y de los impactos negativos de la generación y gestión de los residuos, mediante la reducción del impacto global del uso de los recursos y mediante la mejora de la eficiencia de dicho uso, elementos cruciales para efectuar la transición a una economía circular y garantizar la competitividad de la Unión a largo plazo.</ins>\n"
     ]
    }
   ],
   "source": [
    "print(response.choices[0].message.content)"
   ]
  },
  {
   "cell_type": "code",
   "execution_count": null,
   "metadata": {},
   "outputs": [],
   "source": []
  }
 ],
 "metadata": {
  "kernelspec": {
   "display_name": "test_pip_github",
   "language": "python",
   "name": "python3"
  },
  "language_info": {
   "codemirror_mode": {
    "name": "ipython",
    "version": 3
   },
   "file_extension": ".py",
   "mimetype": "text/x-python",
   "name": "python",
   "nbconvert_exporter": "python",
   "pygments_lexer": "ipython3",
   "version": "3.11.4"
  },
  "orig_nbformat": 4
 },
 "nbformat": 4,
 "nbformat_minor": 2
}
