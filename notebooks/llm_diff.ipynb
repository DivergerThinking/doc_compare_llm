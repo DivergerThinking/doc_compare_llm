{
 "cells": [
  {
   "cell_type": "code",
   "execution_count": null,
   "metadata": {},
   "outputs": [],
   "source": [
    "import os\n",
    "import base64"
   ]
  },
  {
   "cell_type": "code",
   "execution_count": null,
   "metadata": {},
   "outputs": [],
   "source": [
    "with open(\"../data/secrets.json\") as secrets:\n",
    "    secrets_dict = eval(secrets.read())\n",
    "    open_api_key = base64.b64decode(secrets_dict[\"openai_api_key\"]).decode('ascii')\n",
    "    os.environ[\"OPENAI_API_KEY\"] = open_api_key\n",
    "    if \"organization_id\" in secrets_dict.keys():\n",
    "        openai_organization = base64.b64decode(secrets_dict[\"organization_id\"]).decode('ascii')\n",
    "        os.environ[\"OPENAI_ORGANIZATION\"] = openai_organization"
   ]
  },
  {
   "cell_type": "code",
   "execution_count": null,
   "metadata": {},
   "outputs": [],
   "source": [
    "import openai"
   ]
  },
  {
   "cell_type": "code",
   "execution_count": null,
   "metadata": {},
   "outputs": [],
   "source": [
    "with open('../data/directiva_residuos/mods_2018.json') as file:\n",
    "    mods_2018 = eval(file.read())\n",
    "with open('../data/directiva_residuos/articles_2008.json') as file:\n",
    "    articles_2008 = eval(file.read())"
   ]
  },
  {
   "cell_type": "markdown",
   "metadata": {},
   "source": [
    "# Detect article to modif"
   ]
  },
  {
   "cell_type": "code",
   "execution_count": null,
   "metadata": {},
   "outputs": [],
   "source": [
    "detect_article_modif_system_prompt = \"\"\"\n",
    "Eres un asistente que identifica en un texto legal los artículos que modifica de otra legislación anterior.\n",
    "La respuesta debe ser únicamente los nombre de los artículos identificados en minúscula, sin tildes y con barra baja en lugar de espacio.\n",
    "Los artículos identificados deben estar estar formateados como una lista de python [\"articulo_1\", \"articulo_2\"].\n",
    "\n",
    "Ejemplo 1\n",
    "Texto de modificaciones(encapsulado en triple tilde inversa):\n",
    "```\n",
    "El artículo 1 se sustituye por el texto siguiente:\n",
    "Exposición de motivos y causas.\n",
    "Lorem ipsum dolor sit amet, consectetur adipiscing elit.\n",
    "```\n",
    "Artículos identificados:\n",
    "[\"articulo_1\"]\n",
    "\n",
    "Ejemplo 2\n",
    "Texto de modificaciones(encapsulado en triple tilde inversa):\n",
    "```\n",
    "En el artículo 2, apartado 2, se añade la letra siguiente:\n",
    "Etiam mattis mauris nec felis tempus dapibus.\n",
    "\n",
    "3) El artículo 3 se modifica como sigue:\n",
    "Proin pretium, est sed pellentesque rutrum, ipsum felis posuere dui, quis pulvinar nibh neque quis libero.\n",
    "```\n",
    "Artículos identificados:\n",
    "[\"articulo_1\", \"articulo_3\"]\n",
    "\"\"\""
   ]
  },
  {
   "cell_type": "code",
   "execution_count": null,
   "metadata": {},
   "outputs": [],
   "source": [
    "modif_doc_prompt_prompt = \"\"\"\n",
    "\n",
    "Texto de modificaciones (encapsulado en triple tilde inversa):\n",
    "```\n",
    "{mod_doc}\n",
    "```\n",
    "\n",
    "Artículos identificados:\n",
    "\"\"\""
   ]
  },
  {
   "cell_type": "markdown",
   "metadata": {},
   "source": [
    "## Dev Area"
   ]
  },
  {
   "cell_type": "code",
   "execution_count": null,
   "metadata": {},
   "outputs": [],
   "source": [
    "params = {\n",
    "#   'model': 'gpt-4',\n",
    "  'model': 'gpt-3.5-turbo-16k',\n",
    "  'request_timeout': None,\n",
    "  'max_tokens': 2000,\n",
    "  'stream': False,\n",
    "  'n': 1,\n",
    "  'temperature': 0,\n",
    "  'top_p': 1,\n",
    "  'api_base': '',\n",
    "  'organization': '',\n",
    "}"
   ]
  },
  {
   "cell_type": "code",
   "execution_count": null,
   "metadata": {},
   "outputs": [],
   "source": [
    "message_dicts = [{'role': 'system',\n",
    "   'content': detect_article_modif_system_prompt},\n",
    "  {'role': 'user',\n",
    "   'content': modif_doc_prompt_prompt.format(mod_doc=mods_2018[\"1\"])},\n",
    "]"
   ]
  },
  {
   "cell_type": "code",
   "execution_count": null,
   "metadata": {},
   "outputs": [],
   "source": [
    "print(mods_2018[\"1\"])"
   ]
  },
  {
   "cell_type": "code",
   "execution_count": null,
   "metadata": {},
   "outputs": [],
   "source": [
    "response = openai.ChatCompletion.create(\n",
    "    messages=message_dicts,\n",
    "    **params\n",
    ")"
   ]
  },
  {
   "cell_type": "code",
   "execution_count": null,
   "metadata": {},
   "outputs": [],
   "source": [
    "print(response.choices[0].message.content)"
   ]
  },
  {
   "cell_type": "code",
   "execution_count": null,
   "metadata": {},
   "outputs": [],
   "source": [
    "isinstance(eval(response.choices[0].message.content), list)"
   ]
  },
  {
   "cell_type": "markdown",
   "metadata": {},
   "source": [
    "## Module functions"
   ]
  },
  {
   "cell_type": "code",
   "execution_count": null,
   "metadata": {},
   "outputs": [],
   "source": [
    "def identify_article(modification_text: str, api_params: dict):\n",
    "    message_dicts = [\n",
    "        {\"role\": \"system\", \"content\": detect_article_modif_system_prompt},\n",
    "        {\"role\": \"user\", \"content\": modif_doc_prompt_prompt.format(mod_doc=modification_text)},\n",
    "    ]\n",
    "    response_text = openai.ChatCompletion.create(messages=message_dicts, **api_params).choices[0].message.content\n",
    "    response = eval(response_text)\n",
    "    assert isinstance(response, list), \"Wrong output format:\\n{response_text}\"\n",
    "    return response"
   ]
  },
  {
   "cell_type": "code",
   "execution_count": null,
   "metadata": {},
   "outputs": [],
   "source": [
    "identify_article(mods_2018[\"1\"], api_params=params)"
   ]
  },
  {
   "cell_type": "markdown",
   "metadata": {},
   "source": [
    "# Diff Generator"
   ]
  },
  {
   "cell_type": "code",
   "execution_count": null,
   "metadata": {},
   "outputs": [],
   "source": [
    "diff_system_prompt = \"\"\"\n",
    "Eres un experto asistente legal que ayuda a interpretar y entender cambios en legislaciones. Tienes experiencia redactando, corrigiendo y mejorando textos legales como leyes o directivas.\n",
    "Tu objetivo es consolidar los cambios en los documentos tachando (usa el tag html <del>) la parte del texto que queda modificada o derogada y añadiendo el nuevo texto  (usa el tag html <ins>). Pueden haber solo eliminaciones o solo adiciones de texto.\n",
    "El resultado final será un texto único dónde quede claro cuales son las partes del texto que quedan obsoletas y aquellas que entran en vigor.\n",
    "Deber realizar el trabajo artículo a artículo para evitar errores.\n",
    "Si las instrucciones de modificación no afectan a los artículos en el documento original, o se trata de otro elemento que no sea un artículo, simplemente responde con un string vacío.\n",
    "\n",
    "Ejemplo:\n",
    "\n",
    "Documento original (encapsulado en triple tilde inversa):\n",
    "```\n",
    "Constitución española\n",
    "Artículo 1.\n",
    "1. España se constituye en un Estado social y democrático de Derecho, que propugna como valores superiores de su ordenamiento jurídico la libertad, la justicia, la igualdad y el pluralismo político. \n",
    "2. La soberanía nacional reside en el pueblo español, del que emanan los poderes del Estado. \n",
    "3. La forma política del Estado español es la Monarquía parlamentaria. \n",
    "\n",
    "Artículo 2.\n",
    "La Constitución se fundamenta en la indisoluble unidad de la Nación española, patria común e indivisible de todos los españoles, y reconoce y garantiza el derecho a la autonomía de las nacionalidades y regiones que la integran y la solidaridad entre todas ellas.\n",
    "\n",
    "Artículo 3.\n",
    "1. El castellano es la lengua española oficial del Estado. Todos los españoles tienen el deber de conocerla y el derecho a usarla. \n",
    "2. Las demás lenguas españolas serán también oficiales en las respectivas Comunidades Autónomas de acuerdo con sus Estatutos. \n",
    "3. La riqueza de las distintas modalidades lingüísticas de España es un patrimonio cultural que será objeto de especial respeto y protección.\n",
    "```\n",
    "\n",
    "Instrucciones de modificaciones (encapsulado en triple tilde inversa):\n",
    "```\n",
    "Constitución Española\n",
    "Del artículo 1 se modifican los siguientes apartados: \n",
    "Apartado 1. Se sustituye el texto \"la libertad, la justicia, la igualdad y el pluralismo político.\" por \"la unidad, el respeto y el amor.\"\n",
    "Apartado 3. Se sustituye por completo por el siguiente texto \"La forma política de España es la República parlamentaria.\"\n",
    "\n",
    "En el artículo 2 se añade el siguiente texto \"Sin menoscabo de su derecho a decidir sobre su futuro.\".\n",
    "\n",
    "En el articulo 3 se elimina el apartado 3.\n",
    "```\n",
    "\n",
    "Documento consolidado (encapsulado en triple tilde inversa):\n",
    "```\n",
    "Artículo 1.\n",
    "1. España se constituye en un Estado social y democrático de Derecho, que propugna como valores superiores de su ordenamiento jurídico <del>la libertad, la justicia, la igualdad y el pluralismo político. </del> <ins>la unidad, el respeto y el amor.</ins>\n",
    "2. La soberanía nacional reside en el pueblo español, del que emanan los poderes del Estado. \n",
    "3. <del>La forma política del Estado español es la  Monarquía parlamentaria</del> <ins>La forma política de España es la República parlamentaria.</ins>\n",
    "\n",
    "Artículo 2.\n",
    "La Constitución se fundamenta en la indisoluble unidad de la Nación española, patria común e indivisible de todos los españoles, y reconoce y garantiza el derecho a la autonomía de las nacionalidades y regiones que la integran y la solidaridad entre todas ellas. <ins>Sin menoscabo de su derecho a decidir sobre su futuro.</ins>\n",
    "\n",
    "Artículo 3.\n",
    "1. El castellano es la lengua española oficial del Estado. Todos los españoles tienen el deber de conocerla y el derecho a usarla. \n",
    "2. Las demás lenguas españolas serán también oficiales en las respectivas Comunidades Autónomas de acuerdo con sus Estatutos. \n",
    "<del>3. La riqueza de las distintas modalidades lingüísticas de España es un patrimonio cultural que será objeto de especial respeto y protección.</del>\n",
    "```\n",
    "\"\"\""
   ]
  },
  {
   "cell_type": "code",
   "execution_count": null,
   "metadata": {},
   "outputs": [],
   "source": [
    "diff_gen_prompt = \"\"\"\n",
    "Documento original (encapsulado en triple tilde inversa):\n",
    "```\n",
    "{orig_doc}\n",
    "```\n",
    "\n",
    "Instrucciones de modificaciones (encapsulado en triple tilde inversa):\n",
    "```\n",
    "{mod_doc}\n",
    "```\n",
    "\n",
    "Documento consolidado:\n",
    "\"\"\""
   ]
  },
  {
   "cell_type": "markdown",
   "metadata": {},
   "source": [
    "## Dev Area"
   ]
  },
  {
   "cell_type": "code",
   "execution_count": null,
   "metadata": {},
   "outputs": [],
   "source": [
    "message_dicts = [\n",
    "    {\"role\": \"system\", \"content\": diff_system_prompt},\n",
    "    {\n",
    "        \"role\": \"user\",\n",
    "        \"content\": diff_gen_prompt.format(orig_doc=articles_2008[\"articulo_1\"], mod_doc=mods_2018[\"0\"]),\n",
    "    },\n",
    "]"
   ]
  },
  {
   "cell_type": "code",
   "execution_count": null,
   "metadata": {},
   "outputs": [],
   "source": [
    "params = {\n",
    "  'model': 'gpt-4',\n",
    "#   'model': 'gpt-3.5-turbo-16k',\n",
    "  'request_timeout': None,\n",
    "  'max_tokens': 2000,\n",
    "  'stream': False,\n",
    "  'n': 1,\n",
    "  'temperature': 0,\n",
    "  'top_p': 1,\n",
    "  'api_base': '',\n",
    "  'organization': '',}"
   ]
  },
  {
   "cell_type": "code",
   "execution_count": null,
   "metadata": {},
   "outputs": [],
   "source": [
    "response = openai.ChatCompletion.create(\n",
    "    messages=message_dicts,\n",
    "    **params\n",
    ")"
   ]
  },
  {
   "cell_type": "code",
   "execution_count": null,
   "metadata": {},
   "outputs": [],
   "source": [
    "print(response.choices[0].message.content)"
   ]
  },
  {
   "cell_type": "markdown",
   "metadata": {},
   "source": [
    "## Module functions"
   ]
  },
  {
   "cell_type": "code",
   "execution_count": null,
   "metadata": {},
   "outputs": [],
   "source": [
    "def generate_diff_text(origin_text: str, mod_text: str, api_params: dict):\n",
    "    message_dicts = [\n",
    "        {\"role\": \"system\", \"content\": diff_system_prompt},\n",
    "        {\"role\": \"user\", \"content\": diff_gen_prompt.format(orig_doc=origin_text, mod_doc=mod_text)},\n",
    "    ]\n",
    "    response_text = openai.ChatCompletion.create(messages=message_dicts, **api_params).choices[0].message.content\n",
    "    return response_text"
   ]
  },
  {
   "cell_type": "code",
   "execution_count": null,
   "metadata": {},
   "outputs": [],
   "source": [
    "response = generate_diff_text(origin_text=articles_2008[\"articulo_3\"], mod_text=mods_2018[\"1\"], api_params=params)"
   ]
  },
  {
   "cell_type": "code",
   "execution_count": null,
   "metadata": {},
   "outputs": [],
   "source": [
    "print(response)"
   ]
  },
  {
   "cell_type": "markdown",
   "metadata": {},
   "source": [
    "# Full pipeline"
   ]
  },
  {
   "cell_type": "code",
   "execution_count": null,
   "metadata": {},
   "outputs": [],
   "source": [
    "def auto_generate_diff_text(\n",
    "    origin_docs: dict, mod_docs: dict, diff_api_params: dict, id_article_api_params: dict, verbose: bool = False\n",
    "):\n",
    "    diffed_docs = {}\n",
    "    for mod_key, mod_doc in mod_docs.items():\n",
    "        articles = identify_article(mod_doc, api_params=id_article_api_params)\n",
    "        for article in articles:\n",
    "            if verbose:\n",
    "                print(mod_key, article)\n",
    "            res = generate_diff_text(origin_text=origin_docs[article], mod_text=mod_doc, api_params=diff_api_params)\n",
    "            if not res and verbose:\n",
    "                print(f\"Article {article} not affected by modification {mod_key}\")\n",
    "            diffed_docs.update({article: res})\n",
    "    return diffed_docs"
   ]
  },
  {
   "cell_type": "code",
   "execution_count": null,
   "metadata": {},
   "outputs": [],
   "source": [
    "diff_api_params = {\n",
    "  'model': 'gpt-4',\n",
    "#   'model': 'gpt-3.5-turbo-16k',\n",
    "  'request_timeout': None,\n",
    "  'max_tokens': 2000,\n",
    "  'stream': False,\n",
    "  'n': 1,\n",
    "  'temperature': 0,\n",
    "  'top_p': 1,\n",
    "  'api_base': '',\n",
    "  'organization': '',}"
   ]
  },
  {
   "cell_type": "code",
   "execution_count": null,
   "metadata": {},
   "outputs": [],
   "source": [
    "id_article_api_params = {\n",
    "#   'model': 'gpt-4',\n",
    "  'model': 'gpt-3.5-turbo-16k',\n",
    "  'request_timeout': None,\n",
    "  'max_tokens': 2000,\n",
    "  'stream': False,\n",
    "  'n': 1,\n",
    "  'temperature': 0,\n",
    "  'top_p': 1,\n",
    "  'api_base': '',\n",
    "  'organization': '',}"
   ]
  },
  {
   "cell_type": "code",
   "execution_count": null,
   "metadata": {},
   "outputs": [],
   "source": [
    "mod_2018_subset = {k:v for k,v in mods_2018.items() if k in (\"0\")}"
   ]
  },
  {
   "cell_type": "code",
   "execution_count": null,
   "metadata": {},
   "outputs": [],
   "source": [
    "response_test = auto_generate_diff_text(\n",
    "    origin_docs=articles_2008,\n",
    "    mod_docs=mod_2018_subset,\n",
    "    diff_api_params=diff_api_params,\n",
    "    id_article_api_params=id_article_api_params,\n",
    "    verbose=True,\n",
    ")"
   ]
  },
  {
   "cell_type": "code",
   "execution_count": null,
   "metadata": {},
   "outputs": [],
   "source": [
    "print(response_test[\"articulo_1\"])"
   ]
  },
  {
   "cell_type": "markdown",
   "metadata": {},
   "source": [
    "## Explainer"
   ]
  },
  {
   "cell_type": "code",
   "execution_count": null,
   "metadata": {},
   "outputs": [],
   "source": [
    "diff_explainer_prompt = \"\"\"\n",
    "Eres un experto asistente legal que ayuda a interpretar y entender cambios en legislaciones. Tienes experiencia redactando, corrigiendo y explicando textos legales como leyes o directivas.\n",
    "Tu objetivo es explicar y resumir los cambios en el texto. \n",
    "Los cambios se identifican de la siguiente forma:\n",
    "    - El texto eliminado y/o derogado estará marcado con un tag html <del>.\n",
    "    - El nuevo texto añadido estará marcado con un tag html <ins>.\n",
    "La explicación debe ser un resumen conciso y comprensible para personas no acostumbradas a leer documentos legales.\n",
    "La explicación debe centrarse exclusivamente en los cambios realizados y en las implicaciones de esos cambios.\n",
    "\"\"\""
   ]
  },
  {
   "cell_type": "code",
   "execution_count": null,
   "metadata": {},
   "outputs": [],
   "source": [
    "explainer_gen_prompt = \"\"\"Texto a analizar:\n",
    "{diff_doc}\n",
    "\n",
    "Explicación resumida y concisa de los cambios:\n",
    "\"\"\""
   ]
  },
  {
   "cell_type": "code",
   "execution_count": null,
   "metadata": {},
   "outputs": [],
   "source": [
    "def get_diff_explanation(diff_text: str, api_params: dict):\n",
    "    message_dicts = [\n",
    "        {\"role\": \"system\", \"content\": diff_explainer_prompt},\n",
    "        {\"role\": \"user\", \"content\": explainer_gen_prompt.format(diff_doc=diff_text)},\n",
    "    ]\n",
    "    response_text = openai.ChatCompletion.create(messages=message_dicts, **api_params).choices[0].message.content\n",
    "    return response_text"
   ]
  },
  {
   "cell_type": "code",
   "execution_count": null,
   "metadata": {},
   "outputs": [],
   "source": [
    "explanation = get_diff_explanation(response_test[\"articulo_1\"], id_article_api_params)\n",
    "print(explanation)"
   ]
  },
  {
   "cell_type": "markdown",
   "metadata": {},
   "source": [
    "### Further work needed:\n",
    "- Obtener el número de tokens de cada artículo y modificación mediante tiktoke. Así se podrá hacer una estimación rápida de cuantos caben en una llamada a GPT-4 y aprovechar llamadas. Tener en cuenta que los system prompts repetidos \"desperdician\" ese gasto de tokens, por eso es útil unir requests.\n",
    "- Testear gpt3.5 vs gpt4 para prompts largos\n",
    "- Quitar los pie de página e.g. print(mods_2018[\"1\"])"
   ]
  },
  {
   "cell_type": "markdown",
   "metadata": {},
   "source": []
  }
 ],
 "metadata": {
  "kernelspec": {
   "display_name": "test_pip_github",
   "language": "python",
   "name": "python3"
  },
  "language_info": {
   "codemirror_mode": {
    "name": "ipython",
    "version": 3
   },
   "file_extension": ".py",
   "mimetype": "text/x-python",
   "name": "python",
   "nbconvert_exporter": "python",
   "pygments_lexer": "ipython3",
   "version": "3.11.4"
  },
  "orig_nbformat": 4
 },
 "nbformat": 4,
 "nbformat_minor": 2
}
