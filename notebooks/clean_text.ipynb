{
 "cells": [
  {
   "cell_type": "code",
   "execution_count": 119,
   "metadata": {},
   "outputs": [],
   "source": [
    "import fitz\n",
    "import re\n",
    "import json"
   ]
  },
  {
   "cell_type": "code",
   "execution_count": 204,
   "metadata": {},
   "outputs": [],
   "source": [
    "footer_pattern = r\"\\(\\d+\\) (DO [LC] \\d+ de \\d{1,2}\\.\\d{1,2}\\.\\d{4}, p\\. \\d+\\.)\"\n",
    "article_pattern = r\"^(?=Artículo \\d+$)\"\n",
    "wrong_new_lines_pattern = r\"(?<=[a-z,])\\n(?=[a-z](?!\\)))\"\n",
    "parentheses_enum_fix = r\"(?<=[\\w\\d])\\n(?=\\))\"\n",
    "# (?<=[a-z])\\n(?=[a-z])"
   ]
  },
  {
   "cell_type": "markdown",
   "metadata": {},
   "source": [
    "# Original document"
   ]
  },
  {
   "cell_type": "code",
   "execution_count": 197,
   "metadata": {},
   "outputs": [],
   "source": [
    "with fitz.open('../data/directiva_residuos/2008_98_ce_boetxt.pdf') as doc:\n",
    "    out_text_2008= \"\"\n",
    "    for page in doc:\n",
    "        text = page.get_text()\n",
    "        out_text_2008 = out_text_2008 + \"\\n\\n\" + text"
   ]
  },
  {
   "cell_type": "code",
   "execution_count": 198,
   "metadata": {},
   "outputs": [],
   "source": [
    "fix_n_text_2008 = re.sub(wrong_new_lines_pattern, ' ', out_text_2008)"
   ]
  },
  {
   "cell_type": "code",
   "execution_count": 199,
   "metadata": {},
   "outputs": [],
   "source": [
    "# First block is preamble\n",
    "articles_2008 = re.split(article_pattern, fix_n_text_2008, flags=re.MULTILINE)\n",
    "articles_2008 = [article.strip() for article in articles_2008]"
   ]
  },
  {
   "cell_type": "code",
   "execution_count": 200,
   "metadata": {},
   "outputs": [
    {
     "data": {
      "text/plain": [
       "44"
      ]
     },
     "execution_count": 200,
     "metadata": {},
     "output_type": "execute_result"
    }
   ],
   "source": [
    "len(articles_2008)"
   ]
  },
  {
   "cell_type": "code",
   "execution_count": 201,
   "metadata": {},
   "outputs": [
    {
     "name": "stdout",
     "output_type": "stream",
     "text": [
      "Artículo 5\n",
      "Subproductos\n",
      "1.\n",
      "Una sustancia u objeto, resultante de un proceso de producción, cuya finalidad primaria no sea la producción de esa sustancia u objeto, puede ser considerada como subproducto y no como residuo con arreglo al artículo\n",
      "3, punto\n",
      "1,\n",
      "únicamente si se cumplen las siguientes condiciones:\n",
      "a)\n",
      "es seguro que la sustancia u objeto va a ser utilizado ulteriormente;\n",
      "b) la sustancia u objeto puede utilizarse directamente sin tener que someterse a una transformación ulterior distinta de la práctica industrial normal;\n",
      "\n",
      "\n",
      "c) la sustancia u objeto se produce como parte integrante de un proceso de producción; y\n",
      "d) el uso ulterior es legal, es decir la sustancia u objeto cumple todos los requisitos pertinentes para la aplicación específica relativos a los productos y a la protección del medio ambiente y de la salud, y no producirá impactos generales adversos para el medio ambiente o la salud humana.\n",
      "2.\n",
      "Basándose en las condiciones establecidas en el apartado 1, podrán adoptarse medidas para determinar los criterios que deberán cumplir las sustancias u objetos específicos para ser considerados como subproductos y no como residuos, tal como se contempla en el artículo 3, punto\n",
      "1.\n",
      "Dichas medidas, concebidas para modificar elementos no esenciales de la Directiva complementándola, se adoptarán con arreglo al procedimiento de reglamentación con control al que se hace referencia en el artículo 39, apartado 2.\n"
     ]
    }
   ],
   "source": [
    "print(articles_2008[5])"
   ]
  },
  {
   "cell_type": "code",
   "execution_count": 163,
   "metadata": {},
   "outputs": [
    {
     "name": "stdout",
     "output_type": "stream",
     "text": [
      "Artículo 5\n",
      "Subproductos\n",
      "1.\n",
      "Una sustancia u objeto, resultante de un proceso de producción,\n",
      "cuya finalidad primaria no sea la producción de esa sustancia u objeto,\n",
      "puede ser considerada como subproducto y no como residuo con arreglo al artículo\n",
      "3,\n",
      "punto\n",
      "1,\n",
      "únicamente si se cumplen las siguientes condiciones:\n",
      "a)\n",
      "es seguro que la sustancia u objeto va a ser utilizado ulteriormente;\n",
      "b) la sustancia u objeto puede utilizarse directamente sin tener que someterse a una transformación ulterior distinta de la práctica industrial normal;\n",
      "\n",
      "\n",
      "c) la sustancia u objeto se produce como parte integrante de un proceso de producción; y\n",
      "d) el uso ulterior es legal, es decir la sustancia u objeto cumple todos los requisitos pertinentes para la aplicación específica relativos a los productos y a la protección del medio ambiente y de la salud, y no producirá impactos generales adversos para el medio ambiente o la salud humana.\n",
      "2.\n",
      "Basándose en las condiciones establecidas en el apartado 1,\n",
      "podrán adoptarse medidas para determinar los criterios que deberán cumplir las sustancias u objetos específicos para ser considerados como subproductos y no como residuos, tal como se contempla en el artículo 3,\n",
      "punto\n",
      "1.\n",
      "Dichas medidas,\n",
      "concebidas para modificar elementos no esenciales de la Directiva complementándola, se adoptarán con arreglo al procedimiento de reglamentación con control al que se hace referencia en el artículo 39, apartado 2.\n"
     ]
    }
   ],
   "source": [
    "print(articles_2008[5])"
   ]
  },
  {
   "cell_type": "code",
   "execution_count": 222,
   "metadata": {},
   "outputs": [],
   "source": [
    "articles_2008_dict = {f\"article_{i+1}\":art for i, art in enumerate(articles_2008[1:])}"
   ]
  },
  {
   "cell_type": "code",
   "execution_count": 223,
   "metadata": {},
   "outputs": [],
   "source": [
    "with open('../data/directiva_residuos/articles_2008.json', \"w\") as json_file:\n",
    "    json.dump(articles_2008_dict, json_file)"
   ]
  },
  {
   "cell_type": "markdown",
   "metadata": {},
   "source": [
    "# Modifications document"
   ]
  },
  {
   "cell_type": "code",
   "execution_count": 205,
   "metadata": {},
   "outputs": [],
   "source": [
    "with fitz.open('../data/directiva_residuos/2018_851_boetxt.pdf') as doc:\n",
    "    out_text_2018 = \"\"\n",
    "    for page in doc:\n",
    "        text = page.get_text()\n",
    "        out_text_2018 = out_text_2018 + \"\\n\\n\" + text"
   ]
  },
  {
   "cell_type": "code",
   "execution_count": 206,
   "metadata": {},
   "outputs": [],
   "source": [
    "fix_n_text_2018 = re.sub(wrong_new_lines_pattern, ' ', out_text_2018)\n",
    "fix_n_text_2018 = re.sub(parentheses_enum_fix, '', fix_n_text_2018)"
   ]
  },
  {
   "cell_type": "code",
   "execution_count": 207,
   "metadata": {},
   "outputs": [],
   "source": [
    "# First block is preamble\n",
    "articles_2018 = re.split(article_pattern, fix_n_text_2018, flags=re.MULTILINE)\n",
    "articles_2018 = [article.strip() for article in articles_2018]"
   ]
  },
  {
   "cell_type": "code",
   "execution_count": 208,
   "metadata": {},
   "outputs": [
    {
     "data": {
      "text/plain": [
       "2"
      ]
     },
     "execution_count": 208,
     "metadata": {},
     "output_type": "execute_result"
    }
   ],
   "source": [
    "len(articles_2018)"
   ]
  },
  {
   "cell_type": "code",
   "execution_count": 209,
   "metadata": {},
   "outputs": [],
   "source": [
    "modifications_split_pattern = r\"^(?=[\\d]+\\)$\\n)\""
   ]
  },
  {
   "cell_type": "code",
   "execution_count": 210,
   "metadata": {},
   "outputs": [],
   "source": [
    "# First block is preamble\n",
    "mods_2018 = re.split(modifications_split_pattern, articles_2018[1], flags=re.MULTILINE)\n",
    "mods_2018 = [modifications.strip() for modifications in mods_2018]"
   ]
  },
  {
   "cell_type": "code",
   "execution_count": 211,
   "metadata": {},
   "outputs": [
    {
     "data": {
      "text/plain": [
       "33"
      ]
     },
     "execution_count": 211,
     "metadata": {},
     "output_type": "execute_result"
    }
   ],
   "source": [
    "len(mods_2018)"
   ]
  },
  {
   "cell_type": "code",
   "execution_count": 216,
   "metadata": {},
   "outputs": [
    {
     "name": "stdout",
     "output_type": "stream",
     "text": [
      "31)\n",
      "En el anexo II, las operaciones R 3, R 4 y R 5 se sustituyen por el texto siguiente:\n",
      "«R 3\n",
      "Reciclado o regeneración de sustancias orgánicas que no se utilizan como disolventes (incluidos el compostaje y otros procesos de transformación biológica) (*11)\n",
      "R 4\n",
      "Reciclado o regeneración de metales y de compuestos metálicos\n",
      "(*12)\n",
      "\n",
      "\n",
      "R 5\n",
      "Reciclado o regeneración de otras materias inorgánicas (*13)\n",
      "(*11)\n",
      "Incluye la preparación para la reutilización, la gasificación y la pirólisis que utilizan los componentes como elementos químicos, y la valorización de materiales orgánicos en forma de relleno.\"\n",
      "(*12) Incluye la preparación para la reutilización.\"\n",
      "(*13)\n",
      "Incluye la preparación para la reutilización, el reciclado de materiales de construcción inorgánicos, la valorización de materiales orgánicos en forma de relleno y la limpieza del suelo que tenga como resultado la valorización del suelo.».\"\n"
     ]
    }
   ],
   "source": [
    "print(mods_2018[31])"
   ]
  },
  {
   "cell_type": "code",
   "execution_count": 224,
   "metadata": {},
   "outputs": [],
   "source": [
    "mods_2018_dict = {i:art for i, art in enumerate(mods_2018[1:])}"
   ]
  },
  {
   "cell_type": "code",
   "execution_count": 225,
   "metadata": {},
   "outputs": [],
   "source": [
    "with open('../data/directiva_residuos/mods_2018.json', \"w\") as json_file:\n",
    "    json.dump(mods_2018_dict, json_file)"
   ]
  },
  {
   "cell_type": "code",
   "execution_count": null,
   "metadata": {},
   "outputs": [],
   "source": []
  }
 ],
 "metadata": {
  "kernelspec": {
   "display_name": "llmdiff_dev",
   "language": "python",
   "name": "python3"
  },
  "language_info": {
   "codemirror_mode": {
    "name": "ipython",
    "version": 3
   },
   "file_extension": ".py",
   "mimetype": "text/x-python",
   "name": "python",
   "nbconvert_exporter": "python",
   "pygments_lexer": "ipython3",
   "version": "3.11.4"
  },
  "orig_nbformat": 4
 },
 "nbformat": 4,
 "nbformat_minor": 2
}
