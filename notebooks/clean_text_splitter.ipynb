{
 "cells": [
  {
   "cell_type": "code",
   "execution_count": null,
   "metadata": {},
   "outputs": [],
   "source": [
    "import fitz\n",
    "import re\n",
    "import json"
   ]
  },
  {
   "cell_type": "code",
   "execution_count": null,
   "metadata": {},
   "outputs": [],
   "source": [
    "footer_pattern = r\"\\(\\d+\\) (DO [LC] \\d+ de \\d{1,2}\\.\\d{1,2}\\.\\d{4}, p\\. \\d+\\.)\"\n",
    "article_split_pattern = r\"^(?=Artículo \\d+$)\"\n",
    "wrong_new_lines_pattern = r\"(?<=[a-z,])\\n(?=[a-z](?!\\)))\"\n",
    "parentheses_enum_fix = r\"(?<=[\\w\\d])\\n(?=\\))\"\n",
    "parentheses_split_pattern = r\"^(?=[\\d]+\\)$\\n)\""
   ]
  },
  {
   "cell_type": "code",
   "execution_count": null,
   "metadata": {},
   "outputs": [],
   "source": [
    "def clean_source_text(source_text: str):\n",
    "    source_text = re.sub(wrong_new_lines_pattern, \" \", source_text)\n",
    "    source_text = re.sub(footer_pattern, \"\\n\", source_text)\n",
    "    source_text = re.sub(wrong_new_lines_pattern, \" \", source_text)\n",
    "    source_text = re.sub(parentheses_enum_fix, \"\", source_text)\n",
    "    return source_text\n",
    "\n",
    "\n",
    "def split_by_article(source_text: str) -> dict:\n",
    "    # First block is preamble\n",
    "    articles = re.split(article_split_pattern, source_text, flags=re.MULTILINE)[1:]\n",
    "    articles = [article.strip() for article in articles]\n",
    "    articles_dict = {f\"articulo_{i+1}\": art for i, art in enumerate(articles)}\n",
    "    return articles_dict\n",
    "\n",
    "\n",
    "def split_by_parentheses_enum_list(source_text: str):\n",
    "    # First block is preamble\n",
    "    elems = re.split(parentheses_split_pattern, source_text, flags=re.MULTILINE)[1:]\n",
    "    elems = [elem.strip() for elem in elems]\n",
    "    elems_dict = {i: art for i, art in enumerate(elems)}\n",
    "    return elems_dict"
   ]
  },
  {
   "cell_type": "markdown",
   "metadata": {},
   "source": [
    "# Original document"
   ]
  },
  {
   "cell_type": "code",
   "execution_count": null,
   "metadata": {},
   "outputs": [],
   "source": [
    "with fitz.open('../data/directiva_residuos/2008_98_ce_boetxt.pdf') as doc:\n",
    "    out_text_2008= \"\"\n",
    "    for page in doc:\n",
    "        text = page.get_text()\n",
    "        out_text_2008 = out_text_2008 + \"\\n\\n\" + text"
   ]
  },
  {
   "cell_type": "markdown",
   "metadata": {},
   "source": [
    "## Dev area"
   ]
  },
  {
   "cell_type": "code",
   "execution_count": null,
   "metadata": {},
   "outputs": [],
   "source": [
    "fix_n_text_2008 = re.sub(wrong_new_lines_pattern, ' ', out_text_2008)"
   ]
  },
  {
   "cell_type": "code",
   "execution_count": null,
   "metadata": {},
   "outputs": [],
   "source": [
    "# First block is preamble\n",
    "articles_2008 = re.split(article_split_pattern, fix_n_text_2008, flags=re.MULTILINE)\n",
    "articles_2008 = [article.strip() for article in articles_2008]"
   ]
  },
  {
   "cell_type": "code",
   "execution_count": null,
   "metadata": {},
   "outputs": [],
   "source": [
    "len(articles_2008)"
   ]
  },
  {
   "cell_type": "code",
   "execution_count": null,
   "metadata": {},
   "outputs": [],
   "source": [
    "print(articles_2008[5])"
   ]
  },
  {
   "cell_type": "code",
   "execution_count": null,
   "metadata": {},
   "outputs": [],
   "source": [
    "print(articles_2008[5])"
   ]
  },
  {
   "cell_type": "markdown",
   "metadata": {},
   "source": [
    "## Module calls"
   ]
  },
  {
   "cell_type": "code",
   "execution_count": null,
   "metadata": {},
   "outputs": [],
   "source": [
    "# dense calls\n",
    "out_text_2008_clean = clean_source_text(out_text_2008)\n",
    "articles_2008 = split_by_article(out_text_2008_clean)"
   ]
  },
  {
   "cell_type": "code",
   "execution_count": null,
   "metadata": {},
   "outputs": [],
   "source": [
    "articles_2008_dict = {f\"articulo_{i+1}\":art for i, art in enumerate(articles_2008[1:])}"
   ]
  },
  {
   "cell_type": "code",
   "execution_count": null,
   "metadata": {},
   "outputs": [],
   "source": [
    "with open('../data/directiva_residuos/articles_2008.json', \"w\") as json_file:\n",
    "    json.dump(articles_2008_dict, json_file)"
   ]
  },
  {
   "cell_type": "markdown",
   "metadata": {},
   "source": [
    "# Modifications document"
   ]
  },
  {
   "cell_type": "code",
   "execution_count": null,
   "metadata": {},
   "outputs": [],
   "source": [
    "with fitz.open('../data/directiva_residuos/2018_851_boetxt.pdf') as doc:\n",
    "    out_text_2018 = \"\"\n",
    "    for page in doc:\n",
    "        text = page.get_text()\n",
    "        out_text_2018 = out_text_2018 + \"\\n\\n\" + text"
   ]
  },
  {
   "cell_type": "markdown",
   "metadata": {},
   "source": [
    "## Dev area"
   ]
  },
  {
   "cell_type": "code",
   "execution_count": null,
   "metadata": {},
   "outputs": [],
   "source": [
    "fix_n_text_2018 = re.sub(wrong_new_lines_pattern, ' ', out_text_2018)\n",
    "fix_n_text_2018 = re.sub(parentheses_enum_fix, '', fix_n_text_2018)"
   ]
  },
  {
   "cell_type": "code",
   "execution_count": null,
   "metadata": {},
   "outputs": [],
   "source": [
    "# First block is preamble\n",
    "articles_2018 = re.split(article_split_pattern, fix_n_text_2018, flags=re.MULTILINE)\n",
    "articles_2018 = [article.strip() for article in articles_2018]"
   ]
  },
  {
   "cell_type": "code",
   "execution_count": null,
   "metadata": {},
   "outputs": [],
   "source": [
    "len(articles_2018)"
   ]
  },
  {
   "cell_type": "code",
   "execution_count": null,
   "metadata": {},
   "outputs": [],
   "source": [
    "# First block is preamble\n",
    "mods_2018 = re.split(parentheses_split_pattern, articles_2018[1], flags=re.MULTILINE)\n",
    "mods_2018 = [modifications.strip() for modifications in mods_2018]"
   ]
  },
  {
   "cell_type": "code",
   "execution_count": null,
   "metadata": {},
   "outputs": [],
   "source": [
    "len(mods_2018)"
   ]
  },
  {
   "cell_type": "code",
   "execution_count": null,
   "metadata": {},
   "outputs": [],
   "source": [
    "print(mods_2018[31])"
   ]
  },
  {
   "cell_type": "markdown",
   "metadata": {},
   "source": [
    "## Module calls"
   ]
  },
  {
   "cell_type": "code",
   "execution_count": null,
   "metadata": {},
   "outputs": [],
   "source": [
    "# dense calls\n",
    "out_text_2018_clean = clean_source_text(out_text_2018)\n",
    "articles_2018 = split_by_article(out_text_2018_clean)\n",
    "mods_2018 = split_by_parentheses_enum_list(articles_2018[\"articulo_1\"])"
   ]
  },
  {
   "cell_type": "code",
   "execution_count": null,
   "metadata": {},
   "outputs": [],
   "source": [
    "mods_2018_dict = {i:art for i, art in enumerate(mods_2018[1:])}"
   ]
  },
  {
   "cell_type": "code",
   "execution_count": null,
   "metadata": {},
   "outputs": [],
   "source": [
    "with open('../data/directiva_residuos/mods_2018.json', \"w\") as json_file:\n",
    "    json.dump(mods_2018_dict, json_file)"
   ]
  }
 ],
 "metadata": {
  "kernelspec": {
   "display_name": "llmdiff_dev",
   "language": "python",
   "name": "python3"
  },
  "language_info": {
   "codemirror_mode": {
    "name": "ipython",
    "version": 3
   },
   "file_extension": ".py",
   "mimetype": "text/x-python",
   "name": "python",
   "nbconvert_exporter": "python",
   "pygments_lexer": "ipython3",
   "version": "3.11.4"
  },
  "orig_nbformat": 4
 },
 "nbformat": 4,
 "nbformat_minor": 2
}
